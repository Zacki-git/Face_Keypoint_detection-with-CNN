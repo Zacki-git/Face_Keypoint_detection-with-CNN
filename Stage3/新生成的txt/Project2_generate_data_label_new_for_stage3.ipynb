{
 "cells": [
  {
   "cell_type": "code",
   "execution_count": 33,
   "metadata": {},
   "outputs": [],
   "source": [
    "import os\n",
    "import numpy as np\n",
    "import matplotlib.pyplot as plt\n",
    "import copy\n",
    "from PIL import Image"
   ]
  },
  {
   "cell_type": "markdown",
   "metadata": {},
   "source": [
    "# 1 数据集处理"
   ]
  },
  {
   "cell_type": "markdown",
   "metadata": {},
   "source": [
    "## 1.1 检验元数据集正确性"
   ]
  },
  {
   "cell_type": "code",
   "execution_count": null,
   "metadata": {},
   "outputs": [],
   "source": [
    "# 读入label中的每一条信息，并添加地址\n",
    "def load_metadata(folder_list):\n",
    "    tmp_lines = []\n",
    "    res_lines = []\n",
    "    for folder_name in folder_list:\n",
    "        folder = os.path.join('data', folder_name)\n",
    "        metadata_file = os.path.join(folder, 'label.txt')\n",
    "        with open(metadata_file) as f:\n",
    "            lines = f.readlines()\n",
    "        tmp_lines.extend(list(map((folder + '\\\\').__add__, lines)))\n",
    "    for line in tmp_lines:\n",
    "        name = line.split()[0]\n",
    "        if os.path.isfile(name):\n",
    "            res_lines.append(line)\n",
    "    return res_lines"
   ]
  },
  {
   "cell_type": "code",
   "execution_count": null,
   "metadata": {},
   "outputs": [],
   "source": [
    "# 将一行原始信息处理成{‘图片地址’：[(边框1，关键点1),(边框2，关键点2)...]}\n",
    "def load_truth(lines):\n",
    "    truth = {}\n",
    "    for line in lines:\n",
    "        line = line.strip().split()\n",
    "        name = line[0]\n",
    "        if name not in truth:\n",
    "            truth[name] = []\n",
    "        rect = list(map(int, list(map(float, line[1:5]))))\n",
    "        x = list(map(float, line[5::2]))\n",
    "        y = list(map(float, line[6::2]))\n",
    "        landmarks = list(zip(x, y))\n",
    "        truth[name].append((rect, landmarks))\n",
    "    return truth"
   ]
  },
  {
   "cell_type": "code",
   "execution_count": null,
   "metadata": {},
   "outputs": [],
   "source": [
    "# 将显示框线的四个值转换为坐标点\n",
    "def rect_trans(rect):\n",
    "    r_x = np.array([rect[0],rect[0],rect[2],rect[2],rect[0]])\n",
    "    r_y = np.array([rect[1],rect[3],rect[3],rect[1],rect[1]])\n",
    "    return r_x,r_y"
   ]
  },
  {
   "cell_type": "code",
   "execution_count": null,
   "metadata": {},
   "outputs": [],
   "source": [
    "# 显示指定图片,data为经过处理后的数据信息\n",
    "def key_show(key,data):\n",
    "    img = plt.imread(key)\n",
    "    fig = plt.figure(figsize=(10,10))\n",
    "    ax = fig.subplots()\n",
    "    ax.axis('off')\n",
    "    ax.imshow(img)\n",
    "    for i in range(len(data[key])):\n",
    "        rect = data[key][i][0]\n",
    "        landmarks = np.array(data[key][i][1])\n",
    "        r_x,r_y = rect_trans(rect)\n",
    "        ax.plot(r_x,r_y,color='g',linewidth=2)\n",
    "        ax.scatter(landmarks[:,0],landmarks[:,1],s=5,c='r')\n",
    "    plt.show()\n",
    "    \n",
    "# 随机显示图片\n",
    "def check_show(data):\n",
    "    names = []\n",
    "    for key in data:\n",
    "        if key not in names:\n",
    "            names.append(key)\n",
    "    index = np.random.randint(0,len(names))\n",
    "    name = names[index]\n",
    "    key_show(name,data)"
   ]
  },
  {
   "cell_type": "code",
   "execution_count": null,
   "metadata": {
    "scrolled": true
   },
   "outputs": [],
   "source": [
    "folder_list = ['I', 'II']\n",
    "res_lines = load_metadata(folder_list)\n",
    "truth = load_truth(res_lines)"
   ]
  },
  {
   "cell_type": "code",
   "execution_count": null,
   "metadata": {},
   "outputs": [],
   "source": [
    "check_show(truth)"
   ]
  },
  {
   "cell_type": "markdown",
   "metadata": {},
   "source": [
    "## 1.2 扩大人脸框范围"
   ]
  },
  {
   "cell_type": "code",
   "execution_count": null,
   "metadata": {},
   "outputs": [],
   "source": [
    "# 将人脸框扩大（默认0.25倍）；保证人脸框不超过图像大小\n",
    "def expand_roi(rect, img_width, img_height, ratio=0.25):\n",
    "    # 扩大框\n",
    "    x1, y1, x2, y2 = rect[0],rect[1],rect[2],rect[3]\n",
    "    width = x2 - x1 + 1\n",
    "    height = y2 - y1 + 1\n",
    "    padding_width = int(width * ratio)\n",
    "    padding_height = int(height * ratio)\n",
    "    x1 = x1 - padding_width\n",
    "    y1 = y1 - padding_height\n",
    "    x2 = x2 + padding_width\n",
    "    y2 = y2 + padding_height\n",
    "    # 保证不超过图像\n",
    "    x1 = 0 if x1 < 0 else x1\n",
    "    y1 = 0 if y1 < 0 else y1\n",
    "    x2 = img_width - 1 if x2 >= img_width else x2\n",
    "    y2 = img_height - 1 if y2 >= img_height else y2 \n",
    "    rect[0],rect[1],rect[2],rect[3] = x1, y1, x2, y2"
   ]
  },
  {
   "cell_type": "code",
   "execution_count": null,
   "metadata": {},
   "outputs": [],
   "source": [
    "def change_data_rect(data):\n",
    "    for key in data:\n",
    "        img = plt.imread(key)\n",
    "        img_h,img_w = img.shape[:2]\n",
    "        value = data[key]\n",
    "        for i in range(len(value)):\n",
    "            expand_roi(value[i][0],img_w,img_h)\n",
    "    return data"
   ]
  },
  {
   "cell_type": "code",
   "execution_count": null,
   "metadata": {},
   "outputs": [],
   "source": [
    "# 先深度拷贝再进行函数处理，避免原数据更改，便于调试\n",
    "data_change_rect = copy.deepcopy(truth)\n",
    "data_change_rect = change_data_rect(data_change_rect)"
   ]
  },
  {
   "cell_type": "code",
   "execution_count": null,
   "metadata": {},
   "outputs": [],
   "source": [
    "check_show(data_change_rect)"
   ]
  },
  {
   "cell_type": "code",
   "execution_count": null,
   "metadata": {},
   "outputs": [],
   "source": [
    "# 检验扩增效果\n",
    "def compare_show(data1,data2):\n",
    "    names = []\n",
    "    for key in data1:\n",
    "        if key not in names:\n",
    "            names.append(key)\n",
    "    index = np.random.randint(0,len(names))\n",
    "    name = names[index]\n",
    "    key_show(name,data1)\n",
    "    key_show(name,data2)"
   ]
  },
  {
   "cell_type": "code",
   "execution_count": null,
   "metadata": {},
   "outputs": [],
   "source": [
    "compare_show(truth,data_change_rect)"
   ]
  },
  {
   "cell_type": "markdown",
   "metadata": {},
   "source": [
    "## 1.3 关键点坐标变更"
   ]
  },
  {
   "cell_type": "code",
   "execution_count": null,
   "metadata": {},
   "outputs": [],
   "source": [
    "# 人脸关键点坐标变更 landmarks -= np.array([roi x1,roi y1])\n",
    "def change_data_landmarks(data):\n",
    "    delete_value1 = {}\n",
    "    delete_value2 = {}\n",
    "    delete_key = []\n",
    "    for key in data:\n",
    "        value = data[key]\n",
    "        deletes1 = []\n",
    "        deletes2 = []\n",
    "        for i in range(len(value)):\n",
    "            r = np.array([value[i][0][0],value[i][0][1]])\n",
    "            w = value[i][0][2] - value[i][0][0]\n",
    "            h = value[i][0][3] - value[i][0][1]\n",
    "            for j in range(len(value[i][1])):\n",
    "                value[i][1][j] -= r\n",
    "                if value[i][1][j][0]<0 or value[i][1][j][1]<0:\n",
    "                    deletes1.append(value[i])\n",
    "                    break\n",
    "                if value[i][1][j][0]>w or value[i][1][j][1]>h:\n",
    "                    deletes2.append(value[i])\n",
    "                    break\n",
    "        if len(deletes1) != 0:\n",
    "            delete_value1[key] = []\n",
    "            for delete in deletes1:\n",
    "                value.remove(delete)\n",
    "                delete_value1[key].append(delete)\n",
    "        if len(deletes2) != 0:\n",
    "            delete_value2[key] = []\n",
    "            for delete in deletes2:\n",
    "                value.remove(delete)\n",
    "                delete_value2[key].append(delete)\n",
    "        if len(value) == 0:\n",
    "            delete_key.append(key)\n",
    "    for key in delete_key:\n",
    "        del data[key]\n",
    "            \n",
    "    return data,delete_value1,delete_value2"
   ]
  },
  {
   "cell_type": "code",
   "execution_count": null,
   "metadata": {},
   "outputs": [],
   "source": [
    "# 先深度拷贝再进行函数处理，避免原数据更改，便于调试\n",
    "data_change_landmarks = copy.deepcopy(data_change_rect)\n",
    "data_change_landmarks,delete_value1,delete_value2 = change_data_landmarks(data_change_landmarks)"
   ]
  },
  {
   "cell_type": "code",
   "execution_count": null,
   "metadata": {},
   "outputs": [],
   "source": [
    "len(data_change_landmarks),len(delete_value1),len(delete_value2)"
   ]
  },
  {
   "cell_type": "code",
   "execution_count": null,
   "metadata": {},
   "outputs": [],
   "source": [
    "# 查看删除样本情况\n",
    "check_show(delete_value2)"
   ]
  },
  {
   "cell_type": "markdown",
   "metadata": {},
   "source": [
    "## 1.4 生成train/test.txt"
   ]
  },
  {
   "cell_type": "code",
   "execution_count": null,
   "metadata": {},
   "outputs": [],
   "source": [
    "# 数据类型转换\n",
    "def trans_value(key,value):\n",
    "    rect = ''\n",
    "    for r in value[0]:\n",
    "        rect += ' ' + str(r)\n",
    "    landmarks = ''\n",
    "    for lms in value[1]:\n",
    "        landmark = ''\n",
    "        for lm in lms:\n",
    "            landmark += ' ' + str(lm)\n",
    "        landmarks += landmark\n",
    "    line = line = key+rect+landmarks\n",
    "    return line"
   ]
  },
  {
   "cell_type": "code",
   "execution_count": null,
   "metadata": {},
   "outputs": [],
   "source": [
    "# 样本个数train：test=8:2，即train有1570个，test有392个\n",
    "def gen_data(data,rate=4):\n",
    "    lines = []\n",
    "    for key in data:\n",
    "        values = data[key]\n",
    "        for i in range(len(values)):\n",
    "            line = trans_value(key,values[0])\n",
    "            lines.append(line)\n",
    "            values.remove(values[0])\n",
    "    number = len(lines)\n",
    "    train = lines[:int(number*(4/5))]\n",
    "    test = lines[int(number*(4/5)):]\n",
    "    return train,test,lines"
   ]
  },
  {
   "cell_type": "code",
   "execution_count": null,
   "metadata": {},
   "outputs": [],
   "source": [
    "data = copy.deepcopy(data_change_landmarks)\n",
    "train,test,lines = gen_data(data)\n",
    "len(train),len(test),len(lines)"
   ]
  },
  {
   "cell_type": "code",
   "execution_count": 24,
   "metadata": {},
   "outputs": [],
   "source": [
    "# 输出train/test.txt文件\n",
    "def write_txt(data,path):\n",
    "    with open(path,\"w\") as f:\n",
    "        for d in data:\n",
    "            f.write(d + '\\n')\n",
    "    print('File %s is ready!'%path)"
   ]
  },
  {
   "cell_type": "code",
   "execution_count": null,
   "metadata": {},
   "outputs": [],
   "source": [
    "write_txt(train,\"data\\\\train.txt\")\n",
    "write_txt(test,\"data\\\\test.txt\")"
   ]
  },
  {
   "cell_type": "markdown",
   "metadata": {},
   "source": [
    "## 1.5 验证数据正确性"
   ]
  },
  {
   "cell_type": "code",
   "execution_count": null,
   "metadata": {},
   "outputs": [],
   "source": [
    "# 读取生成的数据\n",
    "def load_data(path):\n",
    "    lines = []\n",
    "    with open(path) as f:\n",
    "        lines = f.readlines()\n",
    "    data = load_truth(lines)\n",
    "    return data"
   ]
  },
  {
   "cell_type": "code",
   "execution_count": null,
   "metadata": {},
   "outputs": [],
   "source": [
    "train = load_data(\"data\\\\train.txt\")\n",
    "len(train)"
   ]
  },
  {
   "cell_type": "code",
   "execution_count": null,
   "metadata": {},
   "outputs": [],
   "source": [
    "# 随机选取样本画图\n",
    "def data_show(data):\n",
    "    # 随机选取\n",
    "    names = []\n",
    "    for key in data:\n",
    "        names.append(key)\n",
    "    index = np.random.randint(0,len(names))\n",
    "    name = names[index]\n",
    "    data_key_show(name,data)\n",
    "    \n",
    "def data_key_show(key,data):\n",
    "    # 读取原图像\n",
    "    img = plt.imread(key)\n",
    "    value = data[key]\n",
    "    num = len(value)\n",
    "    fig = plt.figure(figsize=(10,10))\n",
    "    axes = fig.subplots(nrows=1,ncols=num)\n",
    "    for i in range(num):\n",
    "        # 画出截图头像\n",
    "        crop = value[i][0]\n",
    "        crop_img = img[crop[1]:crop[3],crop[0]:crop[2]]\n",
    "        if num == 1:\n",
    "            ax = axes\n",
    "        else:\n",
    "            ax = axes[i]\n",
    "        ax.imshow(crop_img)\n",
    "        # 画出关键点\n",
    "        landmarks = np.array(value[i][1])\n",
    "        ax.scatter(landmarks[:,0],landmarks[:,1],s=5,c='r')\n",
    "    plt.show"
   ]
  },
  {
   "cell_type": "code",
   "execution_count": null,
   "metadata": {
    "scrolled": false
   },
   "outputs": [],
   "source": [
    "data_show(train)"
   ]
  },
  {
   "cell_type": "markdown",
   "metadata": {},
   "source": [
    "# 2 生成stage3 非人脸样本"
   ]
  },
  {
   "cell_type": "markdown",
   "metadata": {},
   "source": [
    "## 2.1 定义iou"
   ]
  },
  {
   "cell_type": "code",
   "execution_count": 2,
   "metadata": {},
   "outputs": [],
   "source": [
    "def get_check_iou(rect1, rect2):\n",
    "    # rect: 0-4: x1, y1, x2, y2\n",
    "    left1 = rect1[0]\n",
    "    top1 = rect1[1]\n",
    "    right1 = rect1[2]\n",
    "    bottom1 = rect1[3]\n",
    "    width1 = right1 - left1 + 1\n",
    "    height1 = bottom1 - top1 + 1\n",
    "\n",
    "    left2 = rect2[0]\n",
    "    top2 = rect2[1]\n",
    "    right2 = rect2[2]\n",
    "    bottom2 = rect2[3]\n",
    "    width2 = right2 - left2 + 1\n",
    "    height2 = bottom2 - top2 + 1\n",
    "\n",
    "    w_left = max(left1, left2)\n",
    "    h_left = max(top1, top2)\n",
    "    w_right = min(right1, right2)\n",
    "    h_right = min(bottom1, bottom2)\n",
    "    inner_area = max(0, w_right - w_left + 1) * max(0, h_right - h_left + 1)\n",
    "\n",
    "    box1_area = width1 * height1\n",
    "    box2_area = width2 * height2\n",
    "    iou = float(inner_area) / float(box1_area + box2_area - inner_area)\n",
    "    return iou"
   ]
  },
  {
   "cell_type": "markdown",
   "metadata": {},
   "source": [
    "## 2.2 生成非人脸框"
   ]
  },
  {
   "cell_type": "markdown",
   "metadata": {},
   "source": [
    "### 按照正负样本1:3的比例来随机生成非人脸框。如果iou大于0.3， 则重新开始随机选取非人脸框。设定最大的随机生成次数，如果超过次数都不能生成负样本的话，输出正样本"
   ]
  },
  {
   "cell_type": "code",
   "execution_count": 3,
   "metadata": {},
   "outputs": [],
   "source": [
    "import random"
   ]
  },
  {
   "cell_type": "code",
   "execution_count": 19,
   "metadata": {},
   "outputs": [],
   "source": [
    "def generate_random_crops(img_w,img_h,rect,neg_gen_thre = 3,random_border =3, random_times = 10):\n",
    "    neg_gen_cnt = 0\n",
    "    negsample_ratio = 0.5   \n",
    "    w = rect[2] - rect[0] + 1\n",
    "    h = rect[3] - rect[1] + 1\n",
    "    random_rect_cnt = 0\n",
    "    random_rects = []\n",
    "    \n",
    "    while neg_gen_cnt < neg_gen_thre and random_rect_cnt < random_times :\n",
    "        #print(\"neg_gen_cnt=\",neg_gen_cnt)\n",
    "        if img_h - h - random_border > 0:\n",
    "            top = np.random.randint(0, img_h - h - random_border)\n",
    "        else:\n",
    "            top = 0\n",
    "        if img_w - w - random_border > 0:\n",
    "            left = np.random.randint(0, img_w - w - random_border)\n",
    "        else:\n",
    "            left = 0\n",
    "        rect_wh = np.random.randint(min(w,h), max(w,h) + 1)\n",
    "        rect_randw = np.random.randint(-3, 3)\n",
    "        rect_randh = np.random.randint(-3, 3)\n",
    "        right = left + rect_wh + rect_randw - 1\n",
    "        bottom = top + rect_wh + rect_randh - 1\n",
    "\n",
    "        img_rect = [0, 0, img_w - 1, img_h - 1]\n",
    "        rect_img_iou = get_check_iou(rect, img_rect)\n",
    "        #print(\"rect_img_iou=\",rect_img_iou)\n",
    "        if rect_img_iou > negsample_ratio:\n",
    "            random_rect_cnt += 1\n",
    "            break\n",
    "        random_rect = [left, top, right, bottom]\n",
    "        #print(\"random_rect=\",random_rect)\n",
    "        iou = get_check_iou(random_rect, rect)\n",
    "        #print(\"iou=\",iou)\n",
    "\n",
    "        if iou < 0.3:\n",
    "            #print(\"iou=\",iou)\n",
    "            random_rects.append(random_rect)\n",
    "            neg_gen_cnt += 1\n",
    "        else:\n",
    "            random_rect_cnt += 1\n",
    "            #print(\"random_rect_cnt=\",random_rect_cnt)\n",
    "    return random_rects"
   ]
  },
  {
   "cell_type": "markdown",
   "metadata": {},
   "source": [
    "## 2.3 读取正样本，生成3份负样本"
   ]
  },
  {
   "cell_type": "code",
   "execution_count": 28,
   "metadata": {},
   "outputs": [],
   "source": [
    "def write_error(line):\n",
    "    error_list = []\n",
    "    line = line.strip().split()\n",
    "    img_w, img_h = (Image.open(line[0])).size\n",
    "    rect = list(map(int, line[1:5]))\n",
    "    error = generate_random_crops(img_w, img_h,rect, neg_gen_thre = 3,random_border = 3,random_times = 10)\n",
    "    if error != []:\n",
    "        for i in range (len(error)):\n",
    "            s = line[0] +\" \"+ str(error[i][0])+\" \"+str(error[i][1])+\" \"+str(error[i][2])+\" \"+str(error[i][3]) + \" 0 \"\n",
    "            error_list.append(s)\n",
    "    else:\n",
    "        error_list = []\n",
    "    return error_list"
   ]
  },
  {
   "cell_type": "markdown",
   "metadata": {},
   "source": [
    "## 2.4 读取stage1 的txt文件，生成全部正负样本,写入新的txt中"
   ]
  },
  {
   "cell_type": "code",
   "execution_count": 29,
   "metadata": {},
   "outputs": [],
   "source": [
    "def gen_stage3_data(path, data):\n",
    "    data_file = path + \"\\\\\" + data\n",
    "\n",
    "    with open(data_file) as f:\n",
    "        lines = f.readlines()\n",
    "        \n",
    "    new_lines = []\n",
    "    for line in lines:\n",
    "        new_lines.append(line[:-1] + \" 1 \")\n",
    "        error_list = write_error(line)\n",
    "        if error_list != []:\n",
    "            for i in range (len(error_list)):\n",
    "                new_lines.append(error_list[i])\n",
    "            \n",
    "    print(len(new_lines))\n",
    "\n",
    "    \n",
    "    return new_lines"
   ]
  },
  {
   "cell_type": "code",
   "execution_count": 30,
   "metadata": {},
   "outputs": [
    {
     "name": "stdout",
     "output_type": "stream",
     "text": [
      "7250\n"
     ]
    }
   ],
   "source": [
    "new_train = gen_stage3_data(\"data\", \"train.txt\")"
   ]
  },
  {
   "cell_type": "code",
   "execution_count": 31,
   "metadata": {},
   "outputs": [
    {
     "name": "stdout",
     "output_type": "stream",
     "text": [
      "1895\n"
     ]
    }
   ],
   "source": [
    "new_test = gen_stage3_data(\"data\", \"test.txt\")"
   ]
  },
  {
   "cell_type": "code",
   "execution_count": 32,
   "metadata": {},
   "outputs": [
    {
     "name": "stdout",
     "output_type": "stream",
     "text": [
      "File data//stage_3_train.txt is ready!\n",
      "File data//stage_3_test.txt is ready!\n"
     ]
    }
   ],
   "source": [
    "write_txt(new_train,\"data//stage_3_train.txt\")\n",
    "write_txt(new_test,\"data//stage_3_test.txt\")"
   ]
  }
 ],
 "metadata": {
  "kernelspec": {
   "display_name": "Python 3",
   "language": "python",
   "name": "python3"
  },
  "language_info": {
   "codemirror_mode": {
    "name": "ipython",
    "version": 3
   },
   "file_extension": ".py",
   "mimetype": "text/x-python",
   "name": "python",
   "nbconvert_exporter": "python",
   "pygments_lexer": "ipython3",
   "version": "3.7.4"
  }
 },
 "nbformat": 4,
 "nbformat_minor": 4
}
